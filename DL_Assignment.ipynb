{
  "nbformat": 4,
  "nbformat_minor": 0,
  "metadata": {
    "colab": {
      "name": "DL Assignment.ipynb",
      "provenance": [],
      "collapsed_sections": [],
      "authorship_tag": "ABX9TyNs3oQgifiaYdIOt2kar9+E",
      "include_colab_link": true
    },
    "kernelspec": {
      "name": "python3",
      "display_name": "Python 3"
    },
    "language_info": {
      "name": "python"
    }
  },
  "cells": [
    {
      "cell_type": "markdown",
      "metadata": {
        "id": "view-in-github",
        "colab_type": "text"
      },
      "source": [
        "<a href=\"https://colab.research.google.com/github/palashsharma891/DeepLearningDSU/blob/main/DL_Assignment.ipynb\" target=\"_parent\"><img src=\"https://colab.research.google.com/assets/colab-badge.svg\" alt=\"Open In Colab\"/></a>"
      ]
    },
    {
      "cell_type": "code",
      "metadata": {
        "colab": {
          "base_uri": "https://localhost:8080/"
        },
        "id": "Fe9tSYgl2Xfn",
        "outputId": "0f6d9c3e-c9a4-40a4-d8b9-dd26ecfa0d3e"
      },
      "source": [
        "import keras\n",
        "from tensorflow.keras.datasets import mnist\n",
        "(training_images, training_labels), (test_images, test_labels) = mnist.load_data()\n",
        "training_images = training_images.reshape(60000, 28, 28, 1)\n",
        "test_images = test_images.reshape(10000, 28, 28, 1)\n",
        "training_images, test_images = training_images / 255.0, test_images / 255.0\n",
        "model = keras.models.Sequential([keras.layers.Conv2D(32, (3, 3), activation='relu', input_shape=(28, 28, 1)),\n",
        "                                keras.layers.MaxPooling2D(2, 2),\n",
        "                                keras.layers.Flatten(),\n",
        "                                keras.layers.Dense(128, activation='relu'),\n",
        "                                keras.layers.Dense(10, activation='softmax')])\n",
        "model.compile(optimizer='adam',\n",
        "              loss='sparse_categorical_crossentropy',\n",
        "              metrics=['accuracy'])\n",
        "model.fit(training_images, training_labels, epochs=5)"
      ],
      "execution_count": null,
      "outputs": [
        {
          "output_type": "stream",
          "name": "stdout",
          "text": [
            "Epoch 1/5\n",
            "1875/1875 [==============================] - 37s 19ms/step - loss: 0.1507 - accuracy: 0.9542\n",
            "Epoch 2/5\n",
            "1875/1875 [==============================] - 36s 19ms/step - loss: 0.0515 - accuracy: 0.9845\n",
            "Epoch 3/5\n",
            "1875/1875 [==============================] - 36s 19ms/step - loss: 0.0337 - accuracy: 0.9895\n",
            "Epoch 4/5\n",
            "1875/1875 [==============================] - 36s 19ms/step - loss: 0.0211 - accuracy: 0.9936\n",
            "Epoch 5/5\n",
            "1875/1875 [==============================] - 36s 19ms/step - loss: 0.0157 - accuracy: 0.9948\n"
          ]
        },
        {
          "output_type": "execute_result",
          "data": {
            "text/plain": [
              "<keras.callbacks.History at 0x7f8a3e3d0f50>"
            ]
          },
          "metadata": {},
          "execution_count": 10
        }
      ]
    },
    {
      "cell_type": "code",
      "metadata": {
        "colab": {
          "base_uri": "https://localhost:8080/"
        },
        "id": "_IIwTDnA5ect",
        "outputId": "74f68a75-bebe-470f-9f8e-9beb95d0a388"
      },
      "source": [
        "# Regression\n",
        "from keras.datasets import boston_housing\n",
        "(X_train, y_train), (X_test, y_test) = boston_housing.load_data()\n",
        "\n",
        "from sklearn.preprocessing import StandardScaler\n",
        "scaler = StandardScaler()\n",
        "\n",
        "scaler.fit(X_train)\n",
        "\n",
        "X_train_scaled = scaler.transform(X_train)\n",
        "X_test_scaled = scaler.transform(X_test)\n",
        "\n",
        "from keras import models, layers\n",
        "\n",
        "model = models.Sequential()\n",
        "\n",
        "model.add(layers.Dense(8, activation='relu', input_shape=[X_train.shape[1]]))\n",
        "model.add(layers.Dense(16, activation='relu'))\n",
        "model.add(layers.Dense(1))\n",
        "\n",
        "model.compile(optimizer='rmsprop', loss='mse', metrics=['mae'])\n",
        "\n",
        "history = model.fit(X_train_scaled, y_train, validation_split=0.2, epochs=100)\n",
        "\n",
        "model.evaluate(X_test_scaled, y_test)"
      ],
      "execution_count": 1,
      "outputs": [
        {
          "output_type": "stream",
          "name": "stdout",
          "text": [
            "Downloading data from https://storage.googleapis.com/tensorflow/tf-keras-datasets/boston_housing.npz\n",
            "57344/57026 [==============================] - 0s 0us/step\n",
            "65536/57026 [==================================] - 0s 0us/step\n",
            "Epoch 1/100\n",
            "11/11 [==============================] - 1s 22ms/step - loss: 582.5801 - mae: 22.3712 - val_loss: 642.3625 - val_mae: 23.6380\n",
            "Epoch 2/100\n",
            "11/11 [==============================] - 0s 4ms/step - loss: 568.0952 - mae: 22.0668 - val_loss: 631.4755 - val_mae: 23.4185\n",
            "Epoch 3/100\n",
            "11/11 [==============================] - 0s 4ms/step - loss: 558.0410 - mae: 21.8504 - val_loss: 618.9564 - val_mae: 23.1744\n",
            "Epoch 4/100\n",
            "11/11 [==============================] - 0s 5ms/step - loss: 546.6946 - mae: 21.6122 - val_loss: 606.7615 - val_mae: 22.9331\n",
            "Epoch 5/100\n",
            "11/11 [==============================] - 0s 3ms/step - loss: 535.2131 - mae: 21.3701 - val_loss: 593.3981 - val_mae: 22.6678\n",
            "Epoch 6/100\n",
            "11/11 [==============================] - 0s 6ms/step - loss: 523.2867 - mae: 21.1149 - val_loss: 581.7033 - val_mae: 22.4299\n",
            "Epoch 7/100\n",
            "11/11 [==============================] - 0s 4ms/step - loss: 511.9068 - mae: 20.8707 - val_loss: 567.2108 - val_mae: 22.1387\n",
            "Epoch 8/100\n",
            "11/11 [==============================] - 0s 4ms/step - loss: 497.9837 - mae: 20.5842 - val_loss: 550.6063 - val_mae: 21.8042\n",
            "Epoch 9/100\n",
            "11/11 [==============================] - 0s 4ms/step - loss: 482.4183 - mae: 20.2512 - val_loss: 531.9445 - val_mae: 21.4225\n",
            "Epoch 10/100\n",
            "11/11 [==============================] - 0s 4ms/step - loss: 465.1869 - mae: 19.8810 - val_loss: 513.5565 - val_mae: 21.0355\n",
            "Epoch 11/100\n",
            "11/11 [==============================] - 0s 3ms/step - loss: 447.7763 - mae: 19.4922 - val_loss: 494.1139 - val_mae: 20.6125\n",
            "Epoch 12/100\n",
            "11/11 [==============================] - 0s 4ms/step - loss: 429.4394 - mae: 19.0650 - val_loss: 472.9269 - val_mae: 20.1415\n",
            "Epoch 13/100\n",
            "11/11 [==============================] - 0s 4ms/step - loss: 409.5999 - mae: 18.5930 - val_loss: 451.5691 - val_mae: 19.6471\n",
            "Epoch 14/100\n",
            "11/11 [==============================] - 0s 4ms/step - loss: 388.5749 - mae: 18.0911 - val_loss: 425.6446 - val_mae: 19.0352\n",
            "Epoch 15/100\n",
            "11/11 [==============================] - 0s 5ms/step - loss: 365.8062 - mae: 17.5173 - val_loss: 404.1205 - val_mae: 18.4918\n",
            "Epoch 16/100\n",
            "11/11 [==============================] - 0s 4ms/step - loss: 344.9255 - mae: 16.9557 - val_loss: 381.8910 - val_mae: 17.9103\n",
            "Epoch 17/100\n",
            "11/11 [==============================] - 0s 4ms/step - loss: 323.1881 - mae: 16.3524 - val_loss: 356.8191 - val_mae: 17.2327\n",
            "Epoch 18/100\n",
            "11/11 [==============================] - 0s 4ms/step - loss: 299.3767 - mae: 15.6746 - val_loss: 329.4462 - val_mae: 16.4662\n",
            "Epoch 19/100\n",
            "11/11 [==============================] - 0s 3ms/step - loss: 274.5962 - mae: 14.9205 - val_loss: 306.0710 - val_mae: 15.7821\n",
            "Epoch 20/100\n",
            "11/11 [==============================] - 0s 3ms/step - loss: 252.5344 - mae: 14.1911 - val_loss: 281.4947 - val_mae: 15.0178\n",
            "Epoch 21/100\n",
            "11/11 [==============================] - 0s 4ms/step - loss: 229.3221 - mae: 13.4105 - val_loss: 253.2274 - val_mae: 14.0812\n",
            "Epoch 22/100\n",
            "11/11 [==============================] - 0s 4ms/step - loss: 205.3477 - mae: 12.5543 - val_loss: 231.5686 - val_mae: 13.2897\n",
            "Epoch 23/100\n",
            "11/11 [==============================] - 0s 5ms/step - loss: 185.0955 - mae: 11.7543 - val_loss: 210.0866 - val_mae: 12.4479\n",
            "Epoch 24/100\n",
            "11/11 [==============================] - 0s 5ms/step - loss: 165.7853 - mae: 10.9344 - val_loss: 188.5130 - val_mae: 11.5595\n",
            "Epoch 25/100\n",
            "11/11 [==============================] - 0s 6ms/step - loss: 146.7720 - mae: 10.1056 - val_loss: 166.6928 - val_mae: 10.6229\n",
            "Epoch 26/100\n",
            "11/11 [==============================] - 0s 4ms/step - loss: 128.4960 - mae: 9.3090 - val_loss: 147.9166 - val_mae: 9.8298\n",
            "Epoch 27/100\n",
            "11/11 [==============================] - 0s 4ms/step - loss: 113.2597 - mae: 8.5627 - val_loss: 131.9631 - val_mae: 9.1618\n",
            "Epoch 28/100\n",
            "11/11 [==============================] - 0s 4ms/step - loss: 100.0837 - mae: 7.9050 - val_loss: 115.1746 - val_mae: 8.3801\n",
            "Epoch 29/100\n",
            "11/11 [==============================] - 0s 4ms/step - loss: 87.9193 - mae: 7.2774 - val_loss: 102.9392 - val_mae: 7.7693\n",
            "Epoch 30/100\n",
            "11/11 [==============================] - 0s 4ms/step - loss: 78.7048 - mae: 6.7787 - val_loss: 92.3694 - val_mae: 7.2614\n",
            "Epoch 31/100\n",
            "11/11 [==============================] - 0s 4ms/step - loss: 70.9197 - mae: 6.3577 - val_loss: 84.0463 - val_mae: 6.8544\n",
            "Epoch 32/100\n",
            "11/11 [==============================] - 0s 4ms/step - loss: 64.8614 - mae: 6.0070 - val_loss: 76.6055 - val_mae: 6.4846\n",
            "Epoch 33/100\n",
            "11/11 [==============================] - 0s 7ms/step - loss: 59.7513 - mae: 5.6967 - val_loss: 70.5344 - val_mae: 6.2002\n",
            "Epoch 34/100\n",
            "11/11 [==============================] - 0s 4ms/step - loss: 55.7111 - mae: 5.3993 - val_loss: 65.6957 - val_mae: 5.8842\n",
            "Epoch 35/100\n",
            "11/11 [==============================] - 0s 4ms/step - loss: 52.3127 - mae: 5.2172 - val_loss: 62.4923 - val_mae: 5.6952\n",
            "Epoch 36/100\n",
            "11/11 [==============================] - 0s 4ms/step - loss: 49.6590 - mae: 5.0395 - val_loss: 57.8519 - val_mae: 5.4323\n",
            "Epoch 37/100\n",
            "11/11 [==============================] - 0s 4ms/step - loss: 46.6471 - mae: 4.8364 - val_loss: 55.0283 - val_mae: 5.2792\n",
            "Epoch 38/100\n",
            "11/11 [==============================] - 0s 4ms/step - loss: 44.5910 - mae: 4.6875 - val_loss: 51.8760 - val_mae: 5.1318\n",
            "Epoch 39/100\n",
            "11/11 [==============================] - 0s 4ms/step - loss: 42.4453 - mae: 4.5384 - val_loss: 48.7530 - val_mae: 4.9841\n",
            "Epoch 40/100\n",
            "11/11 [==============================] - 0s 4ms/step - loss: 40.2360 - mae: 4.3920 - val_loss: 46.2658 - val_mae: 4.8191\n",
            "Epoch 41/100\n",
            "11/11 [==============================] - 0s 4ms/step - loss: 38.3534 - mae: 4.2388 - val_loss: 43.7875 - val_mae: 4.7291\n",
            "Epoch 42/100\n",
            "11/11 [==============================] - 0s 4ms/step - loss: 36.7354 - mae: 4.1373 - val_loss: 41.5679 - val_mae: 4.6212\n",
            "Epoch 43/100\n",
            "11/11 [==============================] - 0s 4ms/step - loss: 35.3782 - mae: 4.0493 - val_loss: 39.8723 - val_mae: 4.5200\n",
            "Epoch 44/100\n",
            "11/11 [==============================] - 0s 4ms/step - loss: 34.0568 - mae: 3.9468 - val_loss: 38.4189 - val_mae: 4.4284\n",
            "Epoch 45/100\n",
            "11/11 [==============================] - 0s 4ms/step - loss: 32.9305 - mae: 3.8861 - val_loss: 37.1032 - val_mae: 4.3371\n",
            "Epoch 46/100\n",
            "11/11 [==============================] - 0s 4ms/step - loss: 32.1375 - mae: 3.8217 - val_loss: 35.7380 - val_mae: 4.3020\n",
            "Epoch 47/100\n",
            "11/11 [==============================] - 0s 4ms/step - loss: 31.2092 - mae: 3.8076 - val_loss: 34.5151 - val_mae: 4.1962\n",
            "Epoch 48/100\n",
            "11/11 [==============================] - 0s 4ms/step - loss: 30.5837 - mae: 3.7677 - val_loss: 33.4465 - val_mae: 4.1417\n",
            "Epoch 49/100\n",
            "11/11 [==============================] - 0s 4ms/step - loss: 29.7812 - mae: 3.7265 - val_loss: 32.4422 - val_mae: 4.0706\n",
            "Epoch 50/100\n",
            "11/11 [==============================] - 0s 4ms/step - loss: 29.2400 - mae: 3.6852 - val_loss: 31.5579 - val_mae: 4.0036\n",
            "Epoch 51/100\n",
            "11/11 [==============================] - 0s 4ms/step - loss: 28.5784 - mae: 3.6354 - val_loss: 30.9993 - val_mae: 4.0007\n",
            "Epoch 52/100\n",
            "11/11 [==============================] - 0s 4ms/step - loss: 28.2601 - mae: 3.6290 - val_loss: 30.6463 - val_mae: 3.9998\n",
            "Epoch 53/100\n",
            "11/11 [==============================] - 0s 4ms/step - loss: 27.8901 - mae: 3.6155 - val_loss: 29.8682 - val_mae: 3.9141\n",
            "Epoch 54/100\n",
            "11/11 [==============================] - 0s 4ms/step - loss: 27.3788 - mae: 3.5674 - val_loss: 29.0934 - val_mae: 3.8929\n",
            "Epoch 55/100\n",
            "11/11 [==============================] - 0s 3ms/step - loss: 27.0166 - mae: 3.5749 - val_loss: 28.5383 - val_mae: 3.8399\n",
            "Epoch 56/100\n",
            "11/11 [==============================] - 0s 4ms/step - loss: 26.6834 - mae: 3.5434 - val_loss: 28.3285 - val_mae: 3.8308\n",
            "Epoch 57/100\n",
            "11/11 [==============================] - 0s 4ms/step - loss: 26.4052 - mae: 3.5241 - val_loss: 27.4721 - val_mae: 3.7476\n",
            "Epoch 58/100\n",
            "11/11 [==============================] - 0s 4ms/step - loss: 26.0878 - mae: 3.4964 - val_loss: 26.8774 - val_mae: 3.7093\n",
            "Epoch 59/100\n",
            "11/11 [==============================] - 0s 4ms/step - loss: 25.7802 - mae: 3.4606 - val_loss: 26.4712 - val_mae: 3.7016\n",
            "Epoch 60/100\n",
            "11/11 [==============================] - 0s 4ms/step - loss: 25.2735 - mae: 3.4569 - val_loss: 26.2250 - val_mae: 3.7137\n",
            "Epoch 61/100\n",
            "11/11 [==============================] - 0s 4ms/step - loss: 24.9136 - mae: 3.4608 - val_loss: 25.6562 - val_mae: 3.6770\n",
            "Epoch 62/100\n",
            "11/11 [==============================] - 0s 3ms/step - loss: 24.5088 - mae: 3.4279 - val_loss: 24.8707 - val_mae: 3.5883\n",
            "Epoch 63/100\n",
            "11/11 [==============================] - 0s 4ms/step - loss: 24.2087 - mae: 3.3885 - val_loss: 24.6159 - val_mae: 3.5892\n",
            "Epoch 64/100\n",
            "11/11 [==============================] - 0s 4ms/step - loss: 23.8439 - mae: 3.3777 - val_loss: 24.1499 - val_mae: 3.5549\n",
            "Epoch 65/100\n",
            "11/11 [==============================] - 0s 4ms/step - loss: 23.6248 - mae: 3.3599 - val_loss: 23.9941 - val_mae: 3.5302\n",
            "Epoch 66/100\n",
            "11/11 [==============================] - 0s 4ms/step - loss: 23.3894 - mae: 3.3478 - val_loss: 23.8387 - val_mae: 3.5424\n",
            "Epoch 67/100\n",
            "11/11 [==============================] - 0s 4ms/step - loss: 23.0145 - mae: 3.3233 - val_loss: 23.2826 - val_mae: 3.5202\n",
            "Epoch 68/100\n",
            "11/11 [==============================] - 0s 4ms/step - loss: 22.7903 - mae: 3.3132 - val_loss: 23.0084 - val_mae: 3.4901\n",
            "Epoch 69/100\n",
            "11/11 [==============================] - 0s 4ms/step - loss: 22.4366 - mae: 3.2794 - val_loss: 22.7810 - val_mae: 3.4983\n",
            "Epoch 70/100\n",
            "11/11 [==============================] - 0s 4ms/step - loss: 22.1989 - mae: 3.2682 - val_loss: 22.7284 - val_mae: 3.5129\n",
            "Epoch 71/100\n",
            "11/11 [==============================] - 0s 4ms/step - loss: 21.9841 - mae: 3.2777 - val_loss: 22.1651 - val_mae: 3.4552\n",
            "Epoch 72/100\n",
            "11/11 [==============================] - 0s 6ms/step - loss: 21.8335 - mae: 3.2526 - val_loss: 21.7138 - val_mae: 3.4405\n",
            "Epoch 73/100\n",
            "11/11 [==============================] - 0s 6ms/step - loss: 21.4974 - mae: 3.2296 - val_loss: 21.4420 - val_mae: 3.4153\n",
            "Epoch 74/100\n",
            "11/11 [==============================] - 0s 5ms/step - loss: 21.2436 - mae: 3.2163 - val_loss: 21.4401 - val_mae: 3.4077\n",
            "Epoch 75/100\n",
            "11/11 [==============================] - 0s 4ms/step - loss: 21.0214 - mae: 3.1948 - val_loss: 21.5058 - val_mae: 3.4296\n",
            "Epoch 76/100\n",
            "11/11 [==============================] - 0s 4ms/step - loss: 20.8585 - mae: 3.1972 - val_loss: 20.8279 - val_mae: 3.3763\n",
            "Epoch 77/100\n",
            "11/11 [==============================] - 0s 4ms/step - loss: 20.6819 - mae: 3.1739 - val_loss: 20.6619 - val_mae: 3.3646\n",
            "Epoch 78/100\n",
            "11/11 [==============================] - 0s 4ms/step - loss: 20.5172 - mae: 3.1644 - val_loss: 20.4761 - val_mae: 3.3329\n",
            "Epoch 79/100\n",
            "11/11 [==============================] - 0s 4ms/step - loss: 20.2381 - mae: 3.1528 - val_loss: 20.1721 - val_mae: 3.3231\n",
            "Epoch 80/100\n",
            "11/11 [==============================] - 0s 4ms/step - loss: 20.1422 - mae: 3.1210 - val_loss: 20.0158 - val_mae: 3.3154\n",
            "Epoch 81/100\n",
            "11/11 [==============================] - 0s 4ms/step - loss: 19.8950 - mae: 3.1089 - val_loss: 19.8491 - val_mae: 3.3037\n",
            "Epoch 82/100\n",
            "11/11 [==============================] - 0s 4ms/step - loss: 19.8528 - mae: 3.1025 - val_loss: 19.7574 - val_mae: 3.2764\n",
            "Epoch 83/100\n",
            "11/11 [==============================] - 0s 4ms/step - loss: 19.5658 - mae: 3.0747 - val_loss: 20.0987 - val_mae: 3.3479\n",
            "Epoch 84/100\n",
            "11/11 [==============================] - 0s 4ms/step - loss: 19.4691 - mae: 3.0942 - val_loss: 19.7942 - val_mae: 3.3210\n",
            "Epoch 85/100\n",
            "11/11 [==============================] - 0s 4ms/step - loss: 19.2959 - mae: 3.0759 - val_loss: 19.2872 - val_mae: 3.2533\n",
            "Epoch 86/100\n",
            "11/11 [==============================] - 0s 4ms/step - loss: 19.1169 - mae: 3.0570 - val_loss: 18.9928 - val_mae: 3.2340\n",
            "Epoch 87/100\n",
            "11/11 [==============================] - 0s 4ms/step - loss: 19.0450 - mae: 3.0380 - val_loss: 18.9180 - val_mae: 3.2257\n",
            "Epoch 88/100\n",
            "11/11 [==============================] - 0s 4ms/step - loss: 18.7655 - mae: 3.0330 - val_loss: 18.7854 - val_mae: 3.2391\n",
            "Epoch 89/100\n",
            "11/11 [==============================] - 0s 4ms/step - loss: 18.6111 - mae: 3.0343 - val_loss: 18.6466 - val_mae: 3.2091\n",
            "Epoch 90/100\n",
            "11/11 [==============================] - 0s 6ms/step - loss: 18.5568 - mae: 3.0228 - val_loss: 18.2597 - val_mae: 3.1699\n",
            "Epoch 91/100\n",
            "11/11 [==============================] - 0s 4ms/step - loss: 18.4115 - mae: 3.0078 - val_loss: 18.3073 - val_mae: 3.1984\n",
            "Epoch 92/100\n",
            "11/11 [==============================] - 0s 6ms/step - loss: 18.2085 - mae: 3.0108 - val_loss: 18.0502 - val_mae: 3.1801\n",
            "Epoch 93/100\n",
            "11/11 [==============================] - 0s 4ms/step - loss: 18.1049 - mae: 3.0037 - val_loss: 18.2744 - val_mae: 3.2005\n",
            "Epoch 94/100\n",
            "11/11 [==============================] - 0s 5ms/step - loss: 18.0552 - mae: 2.9951 - val_loss: 18.1163 - val_mae: 3.1987\n",
            "Epoch 95/100\n",
            "11/11 [==============================] - 0s 4ms/step - loss: 17.8137 - mae: 2.9942 - val_loss: 17.8034 - val_mae: 3.1591\n",
            "Epoch 96/100\n",
            "11/11 [==============================] - 0s 4ms/step - loss: 17.7178 - mae: 2.9798 - val_loss: 17.6022 - val_mae: 3.1398\n",
            "Epoch 97/100\n",
            "11/11 [==============================] - 0s 4ms/step - loss: 17.6924 - mae: 2.9617 - val_loss: 17.5004 - val_mae: 3.1260\n",
            "Epoch 98/100\n",
            "11/11 [==============================] - 0s 4ms/step - loss: 17.4539 - mae: 2.9550 - val_loss: 17.5863 - val_mae: 3.1318\n",
            "Epoch 99/100\n",
            "11/11 [==============================] - 0s 5ms/step - loss: 17.3763 - mae: 2.9446 - val_loss: 17.3660 - val_mae: 3.1064\n",
            "Epoch 100/100\n",
            "11/11 [==============================] - 0s 4ms/step - loss: 17.2060 - mae: 2.9278 - val_loss: 17.2848 - val_mae: 3.0827\n",
            "4/4 [==============================] - 0s 3ms/step - loss: 23.3123 - mae: 3.6905\n"
          ]
        },
        {
          "output_type": "execute_result",
          "data": {
            "text/plain": [
              "[23.31229019165039, 3.690526247024536]"
            ]
          },
          "metadata": {},
          "execution_count": 1
        }
      ]
    },
    {
      "cell_type": "code",
      "metadata": {
        "colab": {
          "base_uri": "https://localhost:8080/"
        },
        "id": "sSxw-Ul25h43",
        "outputId": "2b78f8ba-9e8e-40a9-c58b-120f957d52c0"
      },
      "source": [
        "# Classification\n",
        "\n",
        "mnist = tf.keras.datasets.fashion_mnist\n",
        "(training_images, training_labels), (test_images, test_labesl) = mnist.load_data()\n",
        "\n",
        "training_images = training_images / 255.0\n",
        "test_images = test_images / 255.0\n",
        "\n",
        "model = tf.keras.models.Sequential([tf.keras.layers.Flatten(),\n",
        "                                    tf.keras.layers.Dense(128, activation=tf.nn.relu),\n",
        "                                    tf.keras.layers.Dense(10, activation=tf.nn.softmax)])\n",
        "\n",
        "model.compile(optimizer='adam',\n",
        "              loss='sparse_categorical_crossentropy',\n",
        "              metrics=['accuracy'])\n",
        "\n",
        "model.fit(training_images, training_labels, epochs=5)\n"
      ],
      "execution_count": null,
      "outputs": [
        {
          "output_type": "stream",
          "name": "stdout",
          "text": [
            "Downloading data from https://storage.googleapis.com/tensorflow/tf-keras-datasets/train-labels-idx1-ubyte.gz\n",
            "32768/29515 [=================================] - 0s 0us/step\n",
            "40960/29515 [=========================================] - 0s 0us/step\n",
            "Downloading data from https://storage.googleapis.com/tensorflow/tf-keras-datasets/train-images-idx3-ubyte.gz\n",
            "26427392/26421880 [==============================] - 0s 0us/step\n",
            "26435584/26421880 [==============================] - 0s 0us/step\n",
            "Downloading data from https://storage.googleapis.com/tensorflow/tf-keras-datasets/t10k-labels-idx1-ubyte.gz\n",
            "16384/5148 [===============================================================================================] - 0s 0us/step\n",
            "Downloading data from https://storage.googleapis.com/tensorflow/tf-keras-datasets/t10k-images-idx3-ubyte.gz\n",
            "4423680/4422102 [==============================] - 0s 0us/step\n",
            "4431872/4422102 [==============================] - 0s 0us/step\n",
            "Epoch 1/5\n",
            "1875/1875 [==============================] - 4s 2ms/step - loss: 0.4959 - accuracy: 0.8260\n",
            "Epoch 2/5\n",
            "1875/1875 [==============================] - 4s 2ms/step - loss: 0.3767 - accuracy: 0.8638\n",
            "Epoch 3/5\n",
            "1875/1875 [==============================] - 4s 2ms/step - loss: 0.3377 - accuracy: 0.8770\n",
            "Epoch 4/5\n",
            "1875/1875 [==============================] - 4s 2ms/step - loss: 0.3141 - accuracy: 0.8851\n",
            "Epoch 5/5\n",
            "1875/1875 [==============================] - 4s 2ms/step - loss: 0.2967 - accuracy: 0.8901\n"
          ]
        },
        {
          "output_type": "execute_result",
          "data": {
            "text/plain": [
              "<keras.callbacks.History at 0x7f8a3e1f5650>"
            ]
          },
          "metadata": {},
          "execution_count": 13
        }
      ]
    },
    {
      "cell_type": "code",
      "metadata": {
        "id": "HUo-dqVG3H6I"
      },
      "source": [
        ""
      ],
      "execution_count": null,
      "outputs": []
    }
  ]
}