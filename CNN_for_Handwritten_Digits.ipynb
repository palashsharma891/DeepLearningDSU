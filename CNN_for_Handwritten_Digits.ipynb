{
  "nbformat": 4,
  "nbformat_minor": 0,
  "metadata": {
    "colab": {
      "name": "CNN for Handwritten Digits.ipynb",
      "provenance": [],
      "authorship_tag": "ABX9TyOy5nHsO+70EfkNrz2xpKIt",
      "include_colab_link": true
    },
    "kernelspec": {
      "name": "python3",
      "display_name": "Python 3"
    },
    "language_info": {
      "name": "python"
    },
    "accelerator": "GPU"
  },
  "cells": [
    {
      "cell_type": "markdown",
      "metadata": {
        "id": "view-in-github",
        "colab_type": "text"
      },
      "source": [
        "<a href=\"https://colab.research.google.com/github/palashsharma891/DeepLearningDSU/blob/main/CNN_for_Handwritten_Digits.ipynb\" target=\"_parent\"><img src=\"https://colab.research.google.com/assets/colab-badge.svg\" alt=\"Open In Colab\"/></a>"
      ]
    },
    {
      "cell_type": "code",
      "metadata": {
        "id": "ax0rGjZ2FNaV",
        "colab": {
          "base_uri": "https://localhost:8080/",
          "height": 740
        },
        "outputId": "04e36a42-ec8e-44d2-ab6e-292a8dfb003c"
      },
      "source": [
        "from numpy import mean\n",
        "from numpy import std\n",
        "from matplotlib import pyplot\n",
        "from sklearn.model_selection import KFold\n",
        "from tensorflow.keras.datasets import mnist\n",
        "from tensorflow.keras.utils import to_categorical\n",
        "from tensorflow.keras.models import Sequential\n",
        "from tensorflow.keras.layers import Conv2D\n",
        "from tensorflow.keras.layers import MaxPooling2D\n",
        "from tensorflow.keras.layers import Dense\n",
        "from tensorflow.keras.layers import Flatten\n",
        "from tensorflow.keras.optimizers import SGD\n",
        "\n",
        "def load_dataset():\n",
        "\n",
        "    (trainX, trainY), (testX, testY) = mnist.load_data()\n",
        "\n",
        "    trainX = trainX.reshape((trainX.shape[0], 28, 28, 1))\n",
        "    testX = testX.reshape((testX.shape[0], 28, 28, 1))\n",
        "\n",
        "    trainY = to_categorical(trainY)\n",
        "    testY = to_categorical(testY)\n",
        "    return trainX, trainY, testX, testY\n",
        "\n",
        "def prep_pixels(train, test):\n",
        "    train_norm = train.astype('float32')\n",
        "    test_norm = test.astype('float32')\n",
        "\n",
        "    train_norm = train_norm / 255.0\n",
        "    test_norm = test_norm / 255.0\n",
        "\n",
        "    return train_norm, test_norm\n",
        "\n",
        "\n",
        "def define_model():\n",
        "    model = Sequential()\n",
        "    model.add(Conv2D(32, (3, 3), activation='relu', kernel_initializer='he_uniform', input_shape=(28, 28, 1)))\n",
        "    model.add(MaxPooling2D((2, 2)))\n",
        "    model.add(Flatten())\n",
        "    model.add(Dense(100, activation='relu', kernel_initializer='he_uniform'))\n",
        "    model.add(Dense(10, activation='softmax'))\n",
        "\n",
        "    opt = SGD(learning_rate=0.01, momentum=0.9)\n",
        "    model.compile(optimizer=opt, loss='categorical_crossentropy', metrics=['accuracy'])\n",
        "    return model\n",
        "\n",
        "\n",
        "def evaluate_model(dataX, dataY, n_folds=5):\n",
        "    scores, histories = list(), list()\n",
        "    \n",
        "    kfold = KFold(n_folds, shuffle=True, random_state=1)\n",
        "\n",
        "    for train_ix, test_ix in kfold.split(dataX):\n",
        "        \n",
        "        model = define_model()\n",
        "\n",
        "        trainX, trainY, testX, testY = dataX[train_ix], dataY[train_ix], dataX[test_ix], dataY[test_ix]\n",
        "    \n",
        "        history = model.fit(trainX, trainY, epochs=10, batch_size=32, validation_data=(testX, testY), verbose=0)\n",
        "    \n",
        "        _, acc = model.evaluate(testX, testY, verbose=0)\n",
        "        print('> %.3f' % (acc * 100.0))\n",
        "    \n",
        "        scores.append(acc)\n",
        "        histories.append(history)\n",
        "    return scores, histories\n",
        "\n",
        "\n",
        "def summarize_diagnostics(histories):\n",
        "    for i in range(len(histories)):\n",
        "    \n",
        "        pyplot.subplot(2, 1, 1)\n",
        "        pyplot.title('Cross Entropy Loss')\n",
        "        pyplot.plot(histories[i].history['loss'], color='blue', label='train')\n",
        "        pyplot.plot(histories[i].history['val_loss'], color='orange', label='test')\n",
        "    \n",
        "        pyplot.subplot(2, 1, 2)\n",
        "        pyplot.title('Classification Accuracy')\n",
        "        pyplot.plot(histories[i].history['accuracy'], color='blue', label='train')\n",
        "        pyplot.plot(histories[i].history['val_accuracy'], color='orange', label='test')\n",
        "    pyplot.show()\n",
        "\n",
        "\n",
        "def summarize_performance(scores):\n",
        "\n",
        "    print('Accuracy: mean=%.3f std=%.3f, n=%d' % (mean(scores)*100, std(scores)*100, len(scores)))\n",
        "    \n",
        "    pyplot.boxplot(scores)\n",
        "    pyplot.show()\n",
        "\n",
        "\n",
        "def run_test_harness():\n",
        "\n",
        "    trainX, trainY, testX, testY = load_dataset()\n",
        "    \n",
        "    trainX, testX = prep_pixels(trainX, testX)\n",
        "\n",
        "    scores, histories = evaluate_model(trainX, trainY)\n",
        "    \n",
        "    summarize_diagnostics(histories)\n",
        "    \n",
        "    summarize_performance(scores)\n",
        "\n",
        "run_test_harness()"
      ],
      "execution_count": 1,
      "outputs": [
        {
          "output_type": "stream",
          "name": "stdout",
          "text": [
            "Downloading data from https://storage.googleapis.com/tensorflow/tf-keras-datasets/mnist.npz\n",
            "11493376/11490434 [==============================] - 0s 0us/step\n",
            "11501568/11490434 [==============================] - 0s 0us/step\n",
            "> 98.617\n",
            "> 98.725\n",
            "> 98.600\n",
            "> 98.867\n",
            "> 98.883\n"
          ]
        },
        {
          "output_type": "stream",
          "name": "stderr",
          "text": [
            "/usr/local/lib/python3.7/dist-packages/ipykernel_launcher.py:72: MatplotlibDeprecationWarning: Adding an axes using the same arguments as a previous axes currently reuses the earlier instance.  In a future version, a new instance will always be created and returned.  Meanwhile, this warning can be suppressed, and the future behavior ensured, by passing a unique label to each axes instance.\n",
            "/usr/local/lib/python3.7/dist-packages/ipykernel_launcher.py:77: MatplotlibDeprecationWarning: Adding an axes using the same arguments as a previous axes currently reuses the earlier instance.  In a future version, a new instance will always be created and returned.  Meanwhile, this warning can be suppressed, and the future behavior ensured, by passing a unique label to each axes instance.\n"
          ]
        },
        {
          "output_type": "display_data",
          "data": {
            "image/png": "[encoded data removed]",
            "text/plain": [
              "<Figure size 432x288 with 2 Axes>"
            ]
          },
          "metadata": {
            "needs_background": "light"
          }
        },
        {
          "output_type": "stream",
          "name": "stdout",
          "text": [
            "Accuracy: mean=98.738 std=0.120, n=5\n"
          ]
        },
        {
          "output_type": "display_data",
          "data": {
            "image/png": "[encoded data removed]",
            "text/plain": [
              "<Figure size 432x288 with 1 Axes>"
            ]
          },
          "metadata": {
            "needs_background": "light"
          }
        }
      ]
    }
  ]
}